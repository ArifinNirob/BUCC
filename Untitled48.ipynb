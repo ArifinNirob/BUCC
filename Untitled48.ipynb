{
  "nbformat": 4,
  "nbformat_minor": 0,
  "metadata": {
    "colab": {
      "name": "Untitled48.ipynb",
      "provenance": [],
      "authorship_tag": "ABX9TyNXWuUtWmB5LG7mLEQTWbdI",
      "include_colab_link": true
    },
    "kernelspec": {
      "name": "python3",
      "display_name": "Python 3"
    },
    "language_info": {
      "name": "python"
    }
  },
  "cells": [
    {
      "cell_type": "markdown",
      "metadata": {
        "id": "view-in-github",
        "colab_type": "text"
      },
      "source": [
        "<a href=\"https://colab.research.google.com/github/ArifinNirob/BUCC/blob/main/Untitled48.ipynb\" target=\"_parent\"><img src=\"https://colab.research.google.com/assets/colab-badge.svg\" alt=\"Open In Colab\"/></a>"
      ]
    },
    {
      "cell_type": "code",
      "execution_count": null,
      "metadata": {
        "id": "UM-RfUkSrVFk"
      },
      "outputs": [],
      "source": [
        "#Program to illustrate method overloading\n",
        "class edpresso:\n",
        "    def Hello(self, name=None):\n",
        "        if name is not None:\n",
        "            print('Hello ' + name)\n",
        "        else:\n",
        "            print('Hello ')\n",
        "            \n",
        "# Create an instance\n",
        "obj = edpresso()\n",
        "    \n",
        "# Call the method\n",
        "obj.Hello()\n",
        "    \n",
        "# Call the method with a parameter\n",
        "obj.Hello('Kadambini')"
      ]
    },
    {
      "cell_type": "code",
      "source": [
        "class person():\n",
        "  def __init__(self,name,age,gender):\n",
        "    self.name=name\n",
        "    self.age=age\n",
        "    self.gender=gender\n",
        "  \n",
        "  def printgender(self):\n",
        "    return self.gender\n",
        "\n",
        "\n",
        "class student(person):\n",
        "  def __init__(self,name,age,gender,school,cls):\n",
        "    self.school=school\n",
        "    self.cls=cls\n",
        "    super().__init__(name,age,gender)\n",
        "  \n",
        "  def printD(self):\n",
        "    print(\"Name:\",self.name)\n",
        "    print(\"Gender:\",self.gender)\n",
        "    print(\"Gender:\",super().printgender())\n",
        "    \n",
        "\n",
        "s=student(\"akib\",12,\"m\",\"avb\",12)\n",
        "s.printD()"
      ],
      "metadata": {
        "colab": {
          "base_uri": "https://localhost:8080/"
        },
        "id": "6X5fGn90sGF9",
        "outputId": "9d87b595-1c51-4fcb-8c49-1b59c5fdea28"
      },
      "execution_count": 2,
      "outputs": [
        {
          "output_type": "stream",
          "name": "stdout",
          "text": [
            "Name: akib\n",
            "Gender: m\n",
            "Gender: m\n"
          ]
        }
      ]
    },
    {
      "cell_type": "code",
      "source": [
        "class baba():\n",
        "  def cook(self):\n",
        "    print(\"I can cook korola vaji\")\n",
        "\n",
        "  def drive(self):\n",
        "    print(\"I can drive car\")\n",
        "\n",
        "  def play(self):\n",
        "    print(\"I can play footbal\")\n",
        "\n",
        "\n",
        "class chele(baba):\n",
        "  pass\n",
        "  def drive(self): \n",
        "    print(\"i can drive both car and plan\")\n",
        "\n",
        "\n",
        "class meye(baba):\n",
        "  pass\n",
        "  def cook(self):\n",
        "    print(\"I can cook gorom pani\")\n",
        "\n",
        "\n",
        "ch=chele()\n",
        "ch.cook()\n",
        "ch.drive()\n",
        "  \n",
        "m=meye()\n",
        "m.cook()\n",
        "m.drive()"
      ],
      "metadata": {
        "colab": {
          "base_uri": "https://localhost:8080/"
        },
        "id": "DgPyqLaht1H1",
        "outputId": "52a0da85-1b0f-48ff-b88a-50c3fd8c87b8"
      },
      "execution_count": 10,
      "outputs": [
        {
          "output_type": "stream",
          "name": "stdout",
          "text": [
            "I can cook korola vaji\n",
            "i can drive both car and plan\n",
            "I can cook gorom pani\n",
            "I can drive car\n"
          ]
        }
      ]
    },
    {
      "cell_type": "code",
      "source": [
        ""
      ],
      "metadata": {
        "id": "bEWb0XCmuBDx"
      },
      "execution_count": null,
      "outputs": []
    }
  ]
}